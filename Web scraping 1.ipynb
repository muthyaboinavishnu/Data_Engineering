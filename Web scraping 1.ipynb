{
 "cells": [
  {
   "cell_type": "code",
   "execution_count": 1,
   "id": "44221324",
   "metadata": {},
   "outputs": [],
   "source": [
    "import requests\n",
    "from bs4 import BeautifulSoup\n",
    "from csv import writer"
   ]
  },
  {
   "cell_type": "code",
   "execution_count": 2,
   "id": "ec4893d3",
   "metadata": {},
   "outputs": [],
   "source": [
    "url = \"https://www.pararius.com/apartments/amsterdam?ac=1\"\n",
    "\n",
    "page = requests.get(url)"
   ]
  },
  {
   "cell_type": "code",
   "execution_count": 3,
   "id": "44dbcd8a",
   "metadata": {},
   "outputs": [],
   "source": [
    "soup = BeautifulSoup(page.content, 'html.parser')\n"
   ]
  },
  {
   "cell_type": "code",
   "execution_count": 4,
   "id": "525c12fe",
   "metadata": {},
   "outputs": [],
   "source": [
    "class_list  = soup.find_all('section', class_ = 'listing-search-item')"
   ]
  },
  {
   "cell_type": "code",
   "execution_count": 5,
   "id": "d0b11a8a",
   "metadata": {},
   "outputs": [],
   "source": [
    "with open('housings.csv', 'w', encoding='utf8', newline='') as f:\n",
    "    thewriter = writer(f)\n",
    "    header = ['Title', 'Location', 'Price', 'Area', 'No.of rooms', 'Interior']\n",
    "    thewriter.writerow(header)\n",
    "    for lists in class_list:\n",
    "            titles = lists.find('a', class_ = 'listing-search-item__link--title').text.replace(\"\\n\",\"\")\n",
    "            location = lists.find('div', class_ = 'listing-search-item__sub-title').text.replace(\"\\n\",\"\")\n",
    "            price = lists.find('div', class_ = 'listing-search-item__price').text.replace(\"\\n\",\"\").replace(\"\\n\",\"\").replace(\"\\n\",\"\").replace(\"\\n\",\"\")\n",
    "            area = lists.find('li', class_ = 'illustrated-features__item illustrated-features__item--surface-area').text.replace(\"\\n\",\"\").replace(\"\\n\",\"\").replace(\"\\n\",\"\")\n",
    "            no_rooms = lists.find('li', class_ = 'illustrated-features__item illustrated-features__item--number-of-rooms').text.replace(\"\\n\",\"\").replace(\"\\n\",\"\") \n",
    "            # interior = lists.find('li', class_ = 'illustrated-features__item illustrated-features__item--interior').text.replace(\"\\n\",\"\")\n",
    "            info = [titles,  location,price, area, no_rooms]\n",
    "            thewriter.writerow(info)"
   ]
  },
  {
   "cell_type": "code",
   "execution_count": null,
   "id": "0c9baf6d",
   "metadata": {},
   "outputs": [],
   "source": []
  },
  {
   "cell_type": "code",
   "execution_count": null,
   "id": "80399a9d",
   "metadata": {},
   "outputs": [],
   "source": []
  },
  {
   "cell_type": "code",
   "execution_count": null,
   "id": "f3a10c4e",
   "metadata": {},
   "outputs": [],
   "source": []
  },
  {
   "cell_type": "code",
   "execution_count": null,
   "id": "0f194d3a",
   "metadata": {},
   "outputs": [],
   "source": []
  }
 ],
 "metadata": {
  "kernelspec": {
   "display_name": "Python 3.10.7 64-bit (microsoft store)",
   "language": "python",
   "name": "python3"
  },
  "language_info": {
   "codemirror_mode": {
    "name": "ipython",
    "version": 3
   },
   "file_extension": ".py",
   "mimetype": "text/x-python",
   "name": "python",
   "nbconvert_exporter": "python",
   "pygments_lexer": "ipython3",
   "version": "3.10.7"
  },
  "vscode": {
   "interpreter": {
    "hash": "ce0f6203b3fbc511feac4a42b16cae128f0e786792bf66ae78fb58f81e75db39"
   }
  }
 },
 "nbformat": 4,
 "nbformat_minor": 5
}
